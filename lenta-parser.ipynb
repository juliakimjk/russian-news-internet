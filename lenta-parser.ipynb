{
 "cells": [
  {
   "cell_type": "code",
   "execution_count": 1,
   "metadata": {},
   "outputs": [],
   "source": [
    "from datetime import date\n",
    "from urllib.request import Request, urlopen\n",
    "import requests\n",
    "from bs4 import BeautifulSoup\n",
    "import os\n",
    "import re\n",
    "import time\n",
    "import random"
   ]
  },
  {
   "cell_type": "markdown",
   "metadata": {},
   "source": [
    "# Список ссылок по дням"
   ]
  },
  {
   "cell_type": "code",
   "execution_count": 2,
   "metadata": {},
   "outputs": [],
   "source": [
    "BEGIN_LENTA = 730120"
   ]
  },
  {
   "cell_type": "code",
   "execution_count": 3,
   "metadata": {},
   "outputs": [],
   "source": [
    "DELTA_LENTA = int(re.search('[0-9]+', str(date.today() - date.fromordinal(BEGIN_LENTA))).group(0))"
   ]
  },
  {
   "cell_type": "code",
   "execution_count": 4,
   "metadata": {},
   "outputs": [],
   "source": [
    "def overall_links_lenta():\n",
    "    date_l = []\n",
    "    for i in range(BEGIN_LENTA, BEGIN_LENTA+DELTA_LENTA):\n",
    "        d = date.fromordinal(i)\n",
    "        dd = d.strftime(\"https://lenta.ru/news/20%y/%m/%d/\")\n",
    "        date_l.append(dd)\n",
    "    return date_l"
   ]
  },
  {
   "cell_type": "code",
   "execution_count": 5,
   "metadata": {},
   "outputs": [
    {
     "name": "stdout",
     "output_type": "stream",
     "text": [
      "7726\n"
     ]
    }
   ],
   "source": [
    "date_l = overall_links_lenta()\n",
    "print(len(date_l))"
   ]
  },
  {
   "cell_type": "code",
   "execution_count": 7,
   "metadata": {},
   "outputs": [
    {
     "data": {
      "text/plain": [
       "'https://lenta.ru/news/2004/12/30/'"
      ]
     },
     "execution_count": 7,
     "metadata": {},
     "output_type": "execute_result"
    }
   ],
   "source": [
    "date_l[]"
   ]
  },
  {
   "cell_type": "markdown",
   "metadata": {},
   "source": [
    "## Формирование ссылок"
   ]
  },
  {
   "cell_type": "code",
   "execution_count": 6,
   "metadata": {},
   "outputs": [],
   "source": [
    "def lenta_year_links(year, date_l):\n",
    "    links = []\n",
    "    if year != 2000:\n",
    "        begin = 365*(year-2000)\n",
    "    else:\n",
    "        begin = 0\n",
    "    for i in date_l[begin:begin+367]:\n",
    "        if i.startswith('https://lenta.ru/news/{}'.format(year)):\n",
    "            res = requests.get(i)\n",
    "            soup = BeautifulSoup(res.content, 'lxml')\n",
    "            for t in soup.find_all('div', {'class': 'titles'}):\n",
    "                link = 'https://lenta.ru' + t.h3.a['href']\n",
    "                links.append(link)\n",
    "    return links"
   ]
  },
  {
   "cell_type": "code",
   "execution_count": 7,
   "metadata": {},
   "outputs": [
    {
     "name": "stdout",
     "output_type": "stream",
     "text": [
      "Wall time: 29min 23s\n"
     ]
    }
   ],
   "source": [
    "%%time\n",
    "l2020 = lenta_year_links(2020, date_l)"
   ]
  },
  {
   "cell_type": "code",
   "execution_count": 16,
   "metadata": {},
   "outputs": [
    {
     "data": {
      "text/plain": [
       "'https://lenta.ru/news/2020/11/17/ugroza/'"
      ]
     },
     "execution_count": 16,
     "metadata": {},
     "output_type": "execute_result"
    }
   ],
   "source": [
    "l2020[75395]"
   ]
  },
  {
   "cell_type": "code",
   "execution_count": 8,
   "metadata": {},
   "outputs": [
    {
     "data": {
      "text/plain": [
       "85762"
      ]
     },
     "execution_count": 8,
     "metadata": {},
     "output_type": "execute_result"
    }
   ],
   "source": [
    "len(l2020)"
   ]
  },
  {
   "cell_type": "markdown",
   "metadata": {},
   "source": [
    "# Сбор текста из статьи"
   ]
  },
  {
   "cell_type": "code",
   "execution_count": 26,
   "metadata": {},
   "outputs": [
    {
     "data": {
      "text/plain": [
       "'D:\\\\Downloads\\\\Documents\\\\Lenta.ru\\\\lenta2001'"
      ]
     },
     "execution_count": 26,
     "metadata": {},
     "output_type": "execute_result"
    }
   ],
   "source": [
    "os.getcwd()"
   ]
  },
  {
   "cell_type": "code",
   "execution_count": 25,
   "metadata": {},
   "outputs": [],
   "source": [
    "os.chdir('../lenta2001')"
   ]
  },
  {
   "cell_type": "code",
   "execution_count": 9,
   "metadata": {},
   "outputs": [],
   "source": [
    "def lenta_downloader(links_list, corp_dir, begin, end):\n",
    "    if os.path.exists(corp_dir) and os.path.isdir(corp_dir):\n",
    "        os.chdir(corp_dir)\n",
    "    else:\n",
    "        os.mkdir(corp_dir)\n",
    "        os.chdir(corp_dir)\n",
    "    for link in links_list[begin:end]:\n",
    "        link1 = re.sub(r'/', '', link[22:-1])\n",
    "        if os.path.exists(str(link1 + '.txt')):\n",
    "            pass\n",
    "        else:\n",
    "            try:\n",
    "                req = requests.get(link)\n",
    "                soup = BeautifulSoup(req.content, 'lxml')\n",
    "                title = soup.find('h1', {'class': 'b-topic__title'}).text\n",
    "                time = soup.find('time', {'class': 'g-date'})['datetime']\n",
    "                txt = soup.find('div', {'class': 'b-text clearfix js-topic__text'}).text\n",
    "                with open('lenta{}.txt'.format(link1), 'w', encoding=\"UTF-8\") as f:\n",
    "                    f.write(time + '\\n' + title + '\\n' + txt)\n",
    "            except (AttributeError, TypeError) as e:\n",
    "                pass"
   ]
  },
  {
   "cell_type": "code",
   "execution_count": 17,
   "metadata": {},
   "outputs": [
    {
     "name": "stdout",
     "output_type": "stream",
     "text": [
      "Wall time: 1h 10min 14s\n"
     ]
    }
   ],
   "source": [
    "%%time\n",
    "lenta_downloader(l2020, 'C:/Users/juliakimjk/Documents/corp/Lenta.ru/lenta2020', 75396, 85763)"
   ]
  },
  {
   "cell_type": "markdown",
   "metadata": {},
   "source": [
    "На случай обрыва соединения"
   ]
  },
  {
   "cell_type": "code",
   "execution_count": 11,
   "metadata": {},
   "outputs": [],
   "source": [
    "for i in range(75200,75400):\n",
    "    if l2020[i] == 'https://lenta.ru/news/2019/12/10/teachers_zp':\n",
    "        print(i)"
   ]
  },
  {
   "cell_type": "markdown",
   "metadata": {},
   "source": [
    "## Для скачивания html"
   ]
  },
  {
   "cell_type": "code",
   "execution_count": 50,
   "metadata": {},
   "outputs": [],
   "source": [
    "for link in links2000[7501:8000]:\n",
    "    req = Request(link, headers={'User-Agent': 'Mozilla/5.0'})\n",
    "    page = urlopen(req).read().decode(\"utf-8\")\n",
    "    link1 = re.sub(r'/', '', link[22:-1])\n",
    "    randsleep = random.randint(3,9)/10\n",
    "    time.sleep (randsleep)\n",
    "    with open('{}.html'.format(link1), \"w\", encoding=\"UTF-8\") as f:\n",
    "        f.write(page)"
   ]
  },
  {
   "cell_type": "code",
   "execution_count": 8,
   "metadata": {},
   "outputs": [],
   "source": [
    "os.chdir('lenta2001')"
   ]
  },
  {
   "cell_type": "markdown",
   "metadata": {},
   "source": [
    "с 7501 до 8000 - начинаются txt\n",
    "с 10531 - без деления на абзацы"
   ]
  }
 ],
 "metadata": {
  "kernelspec": {
   "display_name": "Python 3",
   "language": "python",
   "name": "python3"
  },
  "language_info": {
   "codemirror_mode": {
    "name": "ipython",
    "version": 3
   },
   "file_extension": ".py",
   "mimetype": "text/x-python",
   "name": "python",
   "nbconvert_exporter": "python",
   "pygments_lexer": "ipython3",
   "version": "3.7.4"
  }
 },
 "nbformat": 4,
 "nbformat_minor": 2
}
