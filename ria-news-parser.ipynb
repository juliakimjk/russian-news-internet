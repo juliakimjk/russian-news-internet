{
 "cells": [
  {
   "cell_type": "code",
   "execution_count": 20,
   "metadata": {},
   "outputs": [],
   "source": [
    "from datetime import date, datetime, timezone, timedelta\n",
    "from urllib.request import Request, urlopen\n",
    "import requests\n",
    "from bs4 import BeautifulSoup\n",
    "import os\n",
    "import re\n",
    "import time\n",
    "import random\n",
    "import pytz\n",
    "from selenium import webdriver\n",
    "from selenium.common.exceptions import NoSuchElementException"
   ]
  },
  {
   "cell_type": "code",
   "execution_count": 21,
   "metadata": {},
   "outputs": [],
   "source": [
    "driver = webdriver.Firefox(executable_path='C:/Users/juliakimjk/Downloads/geckodriver.exe')"
   ]
  },
  {
   "cell_type": "markdown",
   "metadata": {},
   "source": [
    "# Список ссылок по дням"
   ]
  },
  {
   "cell_type": "code",
   "execution_count": 3,
   "metadata": {},
   "outputs": [],
   "source": [
    "BEGIN_RIA = 730774\n",
    "DELTA_RIA = int(re.search('[0-9]+', str(date.today() - date.fromordinal(BEGIN_RIA))).group(0))"
   ]
  },
  {
   "cell_type": "code",
   "execution_count": 4,
   "metadata": {},
   "outputs": [],
   "source": [
    "def overall_links_ria():\n",
    "    datel = []\n",
    "    for i in range(BEGIN_RIA, BEGIN_RIA+DELTA_RIA):\n",
    "        d = date.fromordinal(i)\n",
    "        dd = d.strftime(\"https://ria.ru/20%y%m%d/\")\n",
    "        datel.append(dd)\n",
    "    return datel"
   ]
  },
  {
   "cell_type": "code",
   "execution_count": 60,
   "metadata": {},
   "outputs": [
    {
     "data": {
      "text/plain": [
       "6652"
      ]
     },
     "execution_count": 60,
     "metadata": {},
     "output_type": "execute_result"
    }
   ],
   "source": [
    "6286+366"
   ]
  },
  {
   "cell_type": "code",
   "execution_count": 52,
   "metadata": {},
   "outputs": [],
   "source": [
    "datel = overall_links_ria()"
   ]
  },
  {
   "cell_type": "code",
   "execution_count": 7,
   "metadata": {},
   "outputs": [],
   "source": [
    "datel = overall_links_ria()"
   ]
  },
  {
   "cell_type": "code",
   "execution_count": 6,
   "metadata": {},
   "outputs": [
    {
     "data": {
      "text/plain": [
       "6797"
      ]
     },
     "execution_count": 53,
     "metadata": {},
     "output_type": "execute_result"
    }
   ],
   "source": [
    "len(datel)"
   ]
  },
  {
   "cell_type": "code",
   "execution_count": 61,
   "metadata": {},
   "outputs": [
    {
     "data": {
      "text/plain": [
       "'https://ria.ru/20200102/'"
      ]
     },
     "execution_count": 61,
     "metadata": {},
     "output_type": "execute_result"
    }
   ],
   "source": [
    "datel[6652]"
   ]
  },
  {
   "cell_type": "markdown",
   "metadata": {},
   "source": [
    "# Формирование ссылок на статьи"
   ]
  },
  {
   "cell_type": "code",
   "execution_count": 22,
   "metadata": {},
   "outputs": [],
   "source": [
    "def ria_year_links(links_list, year, begin, end):\n",
    "    for i in links_list[begin:end]:\n",
    "        driver.get(i)\n",
    "        try:\n",
    "            driver.find_element_by_xpath('//div[@class=\"list-more\"]').click()\n",
    "        except NoSuchElementException as ex:\n",
    "            pass\n",
    "        \n",
    "        # Get scroll height\n",
    "        last_height = driver.execute_script(\"return document.documentElement.scrollHeight\")\n",
    "        while True:\n",
    "            # Scroll down to bottom\n",
    "            driver.execute_script(\"window.scrollTo(0,document.documentElement.scrollHeight);\")\n",
    "\n",
    "            # Wait to load page\n",
    "            time.sleep(1.5)\n",
    "\n",
    "            # Calculate new scroll height and compare with last scroll height\n",
    "            new_height = driver.execute_script(\"return document.documentElement.scrollHeight\")\n",
    "            if new_height == last_height:\n",
    "                break\n",
    "            last_height = new_height\n",
    "\n",
    "        results = driver.find_elements_by_xpath('//a[@class=\"list-item__title color-font-hover-only\"]')\n",
    "        ps = []\n",
    "        for r in results:\n",
    "            ps.append(r.get_attribute('href'))\n",
    "        with open('ria{}.txt'.format(year), 'a', encoding='UTF-8') as f:\n",
    "                f.write('\\n' + '\\n'.join(ps))"
   ]
  },
  {
   "cell_type": "code",
   "execution_count": 62,
   "metadata": {
    "scrolled": true
   },
   "outputs": [],
   "source": [
    "ria_year_links(datel, 2020 6286, 6651) #за 2020 надо пересчитать и запустить"
   ]
  },
  {
   "cell_type": "markdown",
   "metadata": {},
   "source": [
    "# Для скачивания txt\n",
    "1 - Дата\n",
    "2 - Название\n",
    "3 - Аннотация\n",
    "4 - Текст статьи"
   ]
  },
  {
   "cell_type": "code",
   "execution_count": 35,
   "metadata": {},
   "outputs": [],
   "source": [
    "def ria_downloader(links_file, corpus_dir, begin, end):\n",
    "    with open(links_file, 'r', encoding='UTF-8') as f:\n",
    "        links = f.readlines()[begin:end]\n",
    "    if os.path.exists(corpus_dir) and os.path.isdir(corpus_dir):\n",
    "        os.chdir(corpus_dir)\n",
    "    else:\n",
    "        os.mkdir(corpus_dir)\n",
    "        os.chdir(corpus_dir)\n",
    "    for link in links:\n",
    "        if link.startswith('https://ria.ru/'):\n",
    "            res = requests.get(link, {'User-Agent': 'Mozilla/5.0 (Macintosh; Intel Mac OS X 10_9_3) AppleWebKit/537.36 (KHTML, like Gecko) Chrome/35.0.1916.47 Safari/537.36'})\n",
    "            link0 = link.strip('\\n')\n",
    "            link1 = re.sub(r'/', '-', link0[15:-4])\n",
    "            if os.path.exists('ria' + link1 + 'txt'):\n",
    "                pass\n",
    "            else:\n",
    "                if res.status_code == 200:\n",
    "                    try:\n",
    "                        req = requests.get(link)\n",
    "                        soup = BeautifulSoup(req.content, 'lxml')\n",
    "                        title = soup.find('h1', {'class': 'article__title'}).text\n",
    "                        time = soup.find('div', {'class': 'article__info-date'}).text\n",
    "                        year = int(time[12:17])\n",
    "                        month = int(time[9:11])\n",
    "                        day = int(time[6:8])\n",
    "                        hour = int(time[0:2])\n",
    "                        minute = int(time[3:6])\n",
    "                        dt = datetime(year, month, day, hour, minute, tzinfo=timezone(timedelta(hours=3))).isoformat()\n",
    "                        annotation = soup.find('div', {'class': 'article__announce-text'}).text\n",
    "                        txt = soup.find_all('div', {'class': 'article__text'})\n",
    "                        txts = []\n",
    "                        for t in txt:\n",
    "                            txts.append(t.text)\n",
    "                        with open('ria' + link1 + 'txt', 'w', encoding=\"UTF-8\") as f:\n",
    "                            f.write(dt + '\\n' + title + '\\n' + annotation + '\\n' + ' '.join(txts))\n",
    "                        randsleep = random.randint(3,9)/10\n",
    "                        time.sleep (randsleep)\n",
    "                    except (TypeError, AttributeError) as e:\n",
    "                            pass"
   ]
  },
  {
   "cell_type": "markdown",
   "metadata": {},
   "source": [
    "# На случай обрыва соединения"
   ]
  },
  {
   "cell_type": "code",
   "execution_count": 96,
   "metadata": {},
   "outputs": [
    {
     "name": "stdout",
     "output_type": "stream",
     "text": [
      "749\n"
     ]
    }
   ],
   "source": [
    "for i in range(0, 24000):\n",
    "    if datel[i] == 'https://ria.ru/20031104/':\n",
    "        print(i)"
   ]
  },
  {
   "cell_type": "markdown",
   "metadata": {},
   "source": [
    "19148 ria2004 - остановилась тут"
   ]
  },
  {
   "cell_type": "code",
   "execution_count": null,
   "metadata": {},
   "outputs": [],
   "source": [
    "%%time\n",
    "ria_downloader('C:/Users/juliakimjk/Desktop/kursovaya/ria2011.txt', 'D:/corp/RIA/RIA/ria2011', 0, 40000)"
   ]
  },
  {
   "cell_type": "code",
   "execution_count": 26,
   "metadata": {},
   "outputs": [],
   "source": [
    "os.chdir(r'C:/Users/juliakimjk/Desktop/kursovaya/')"
   ]
  },
  {
   "cell_type": "code",
   "execution_count": 32,
   "metadata": {},
   "outputs": [],
   "source": [
    "link = 'https://ria.ru/20110101/316355819.html'\n",
    "res = requests.get(link, {'User-Agent': 'Mozilla/5.0 (Macintosh; Intel Mac OS X 10_9_3) AppleWebKit/537.36 (KHTML, like Gecko) Chrome/35.0.1916.47 Safari/537.36'})\n",
    "link1 = re.sub(r'/', '-', link[15:-4])\n",
    "if os.path.exists('ria' + link1 + 'txt'):\n",
    "    pass\n",
    "else:\n",
    "    if res.status_code == 200:\n",
    "        try:\n",
    "            req = requests.get(link)\n",
    "            soup = BeautifulSoup(req.content, 'lxml')\n",
    "            title = soup.find('h1', {'class': 'article__title'}).text\n",
    "            time = soup.find('div', {'class': 'article__info-date'}).text\n",
    "            year = int(time[12:17])\n",
    "            month = int(time[9:11])\n",
    "            day = int(time[6:8])\n",
    "            hour = int(time[0:2])\n",
    "            minute = int(time[3:6])\n",
    "            dt = datetime(year, month, day, hour, minute, tzinfo=timezone(timedelta(hours=3))).isoformat()\n",
    "            annotation = soup.find('div', {'class': 'article__announce-text'}).text\n",
    "            txt = soup.find_all('div', {'class': 'article__text'})\n",
    "            txts = []\n",
    "            for t in txt:\n",
    "                txts.append(t.text)\n",
    "            with open('ria' + link1 + 'txt', 'w', encoding=\"UTF-8\") as f:\n",
    "                f.write(dt + '\\n' + title + '\\n' + annotation + '\\n' + ' '.join(txts))\n",
    "            randsleep = random.randint(3,9)/10\n",
    "            time.sleep (randsleep)\n",
    "        except (TypeError, AttributeError) as e:\n",
    "            pass"
   ]
  },
  {
   "cell_type": "code",
   "execution_count": 31,
   "metadata": {},
   "outputs": [
    {
     "data": {
      "text/plain": [
       "'D:\\\\corp\\\\RIA\\\\RIA\\\\ria2011'"
      ]
     },
     "execution_count": 31,
     "metadata": {},
     "output_type": "execute_result"
    }
   ],
   "source": [
    "os.getcwd()"
   ]
  }
 ],
 "metadata": {
  "kernelspec": {
   "display_name": "Python 3",
   "language": "python",
   "name": "python3"
  },
  "language_info": {
   "codemirror_mode": {
    "name": "ipython",
    "version": 3
   },
   "file_extension": ".py",
   "mimetype": "text/x-python",
   "name": "python",
   "nbconvert_exporter": "python",
   "pygments_lexer": "ipython3",
   "version": "3.7.4"
  }
 },
 "nbformat": 4,
 "nbformat_minor": 2
}
