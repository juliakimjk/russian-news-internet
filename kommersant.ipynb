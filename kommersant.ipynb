{
 "cells": [
  {
   "cell_type": "code",
   "execution_count": 2,
   "metadata": {},
   "outputs": [],
   "source": [
    "from datetime import date, datetime, timezone, timedelta\n",
    "from urllib.request import Request, urlopen\n",
    "import requests\n",
    "from bs4 import BeautifulSoup\n",
    "import os\n",
    "import re\n",
    "import time\n",
    "import random\n",
    "import shutil"
   ]
  },
  {
   "cell_type": "markdown",
   "metadata": {},
   "source": [
    "# Скачивание статей"
   ]
  },
  {
   "cell_type": "code",
   "execution_count": 12,
   "metadata": {},
   "outputs": [],
   "source": [
    "def km_downloader(begin, end):\n",
    "    for i in range(begin, end):\n",
    "        link = 'https://www.kommersant.ru/doc/{}'.format(i)\n",
    "        res = requests.get(link, headers = {'User-Agent': 'Mozilla/5.0 (Windows NT 6.1; WOW64; Trident/7.0; rv:11.0) like Gecko'})\n",
    "        if res.status_code == 200:\n",
    "            try:\n",
    "                soup = BeautifulSoup(res.content, 'lxml')\n",
    "                title = soup.find('h1', {'class': 'article_name'}).text\n",
    "                subtitle = soup.find('h1', {'class': 'article_subheader'}).text\n",
    "                time = soup.find('time')['datetime']\n",
    "                txt = soup.find('div', {'class': 'article_text_wrapper'})\n",
    "                ps = []\n",
    "                for p in txt.find_all('p'):\n",
    "                    pr = p.text\n",
    "                    ps.append(pr)\n",
    "                with open('km{}-{}.txt'.format(time[:10], i), 'w', encoding=\"UTF-8\") as f:\n",
    "                    f.write(time + '\\n' + title + '\\n' + subtitle + '\\n' + ' '.join(ps))\n",
    "            except (AttributeError, TypeError) as e:\n",
    "                pass"
   ]
  },
  {
   "cell_type": "code",
   "execution_count": 3,
   "metadata": {},
   "outputs": [],
   "source": [
    "def km_downloader2(begin, end):\n",
    "    for i in range(begin, end):\n",
    "        link = 'https://www.kommersant.ru/doc/{}'.format(i)\n",
    "        res = requests.get(link, headers = {'User-Agent': 'Mozilla/5.0 (Windows NT 6.1; WOW64; Trident/7.0; rv:11.0) like Gecko'})\n",
    "        if res.status_code == 200:\n",
    "            try:\n",
    "                soup = BeautifulSoup(res.content, 'lxml')\n",
    "                title = soup.find('h2', {'class': 'article_name'}).text\n",
    "                subtitle = soup.find('h1', {'class': 'article_subheader'}).text\n",
    "                time = soup.find('meta', {'property':'article:published_time'})['content']\n",
    "                txt = soup.find('div', {'class': 'article_text_wrapper'}).text\n",
    "                with open('km{}-{}.txt'.format(time[:10], i), 'w', encoding=\"UTF-8\") as f:\n",
    "                    f.write(time + '\\n' + title + '\\n' + subtitle + '\\n' + txt)\n",
    "            except (AttributeError, TypeError) as e:\n",
    "                pass"
   ]
  },
  {
   "cell_type": "code",
   "execution_count": 4,
   "metadata": {},
   "outputs": [],
   "source": [
    "def km_downloader2(begin, end):\n",
    "    for i in range(begin, end):\n",
    "        link = 'https://www.kommersant.ru/doc/{}'.format(i)\n",
    "        res = requests.get(link, headers = {'User-Agent': 'Mozilla/5.0 (Windows NT 6.1; WOW64; Trident/7.0; rv:11.0) like Gecko'})\n",
    "        if res.status_code == 200:\n",
    "            try:\n",
    "                soup = BeautifulSoup(res.content, 'lxml')\n",
    "                title = soup.find('h1', {'class': 'article_name'}).text\n",
    "                time = soup.find('meta', {'property':'article:published_time'})['content']\n",
    "                txt = soup.find('div', {'class': 'article_text_wrapper'}).text\n",
    "                with open('km{}-{}.txt'.format(time[:10], i), 'w', encoding=\"UTF-8\") as f:\n",
    "                    f.write(time + '\\n' + title + '\\n' + txt)\n",
    "            except (AttributeError, TypeError) as e:\n",
    "                pass"
   ]
  },
  {
   "cell_type": "code",
   "execution_count": 10,
   "metadata": {},
   "outputs": [
    {
     "name": "stdout",
     "output_type": "stream",
     "text": [
      "Wall time: 22min 56s\n"
     ]
    }
   ],
   "source": [
    "%%time\n",
    "km_downloader2(900000, 902756)"
   ]
  },
  {
   "cell_type": "markdown",
   "metadata": {},
   "source": [
    "0-20000\n",
    "до 902756"
   ]
  },
  {
   "cell_type": "code",
   "execution_count": 32,
   "metadata": {},
   "outputs": [
    {
     "name": "stdout",
     "output_type": "stream",
     "text": [
      "Wall time: 3d 56min 36s\n"
     ]
    }
   ],
   "source": [
    "%%time\n",
    "km_downloader2(1522034, 1807000)"
   ]
  },
  {
   "cell_type": "markdown",
   "metadata": {},
   "source": [
    "# Сортировка"
   ]
  },
  {
   "cell_type": "code",
   "execution_count": 7,
   "metadata": {},
   "outputs": [],
   "source": [
    "def km_year_sort(corp_dir, overall_corp_dir):\n",
    "    for i in os.listdir(corp_dir):\n",
    "        for y in range (1994, 1997):\n",
    "            if i.startswith('km{}-'. format(y)):\n",
    "                shutil.move('{}/{}'.format(corp_dir, i), '{}/km{}/{}'.format(overall_corp_dir, y, i))\n",
    "            else:\n",
    "                pass"
   ]
  },
  {
   "cell_type": "code",
   "execution_count": 8,
   "metadata": {},
   "outputs": [],
   "source": [
    "km_year_sort('D://Downloads/Documents/Kommersant', 'D://Downloads/Documents/Kommersant')"
   ]
  },
  {
   "cell_type": "code",
   "execution_count": 5,
   "metadata": {},
   "outputs": [],
   "source": [
    "for i in range(1994, 1997):\n",
    "    os.mkdir('km{}'.format(i))"
   ]
  },
  {
   "cell_type": "code",
   "execution_count": 6,
   "metadata": {},
   "outputs": [],
   "source": [
    "os.chdir('D://Downloads/Documents/Kommersant')"
   ]
  },
  {
   "cell_type": "code",
   "execution_count": 31,
   "metadata": {},
   "outputs": [
    {
     "name": "stderr",
     "output_type": "stream",
     "text": [
      "C:\\ProgramData\\Anaconda3\\lib\\site-packages\\urllib3\\connectionpool.py:847: InsecureRequestWarning: Unverified HTTPS request is being made. Adding certificate verification is strongly advised. See: https://urllib3.readthedocs.io/en/latest/advanced-usage.html#ssl-warnings\n",
      "  InsecureRequestWarning)\n"
     ]
    }
   ],
   "source": [
    "link = 'https://www.kommersant.ru/doc/316078'\n",
    "res = requests.get(link, headers = {'User-Agent': 'Mozilla/5.0 (Windows NT 6.1; WOW64; Trident/7.0; rv:11.0) like Gecko'}, verify=False)\n",
    "soup = BeautifulSoup(res.content, 'lxml')\n",
    "title = soup.find('h2', {'class': 'article_name'}).text\n",
    "time = soup.find('time')['pubdate']"
   ]
  },
  {
   "cell_type": "code",
   "execution_count": 55,
   "metadata": {},
   "outputs": [
    {
     "data": {
      "text/plain": [
       "'Москву покидает Марина Кальюранд, посол Эстонии в России, высылки которой в мае прошлого года добивалось движение \"Наши\". Перед отъездом с ней встретился специальный корреспондент ИД \"Коммерсантъ\" МИХАИЛ ЗЫГАРЬ.  '"
      ]
     },
     "execution_count": 55,
     "metadata": {},
     "output_type": "execute_result"
    }
   ],
   "source": [
    "subtitle"
   ]
  }
 ],
 "metadata": {
  "kernelspec": {
   "display_name": "Python 3",
   "language": "python",
   "name": "python3"
  },
  "language_info": {
   "codemirror_mode": {
    "name": "ipython",
    "version": 3
   },
   "file_extension": ".py",
   "mimetype": "text/x-python",
   "name": "python",
   "nbconvert_exporter": "python",
   "pygments_lexer": "ipython3",
   "version": "3.7.4"
  }
 },
 "nbformat": 4,
 "nbformat_minor": 2
}
